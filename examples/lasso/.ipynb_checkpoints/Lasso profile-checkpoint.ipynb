{
 "cells": [
  {
   "cell_type": "code",
   "execution_count": 31,
   "id": "ac64cbcc",
   "metadata": {},
   "outputs": [
    {
     "name": "stderr",
     "output_type": "stream",
     "text": [
      "\u001b[32m\u001b[1m  Activating\u001b[22m\u001b[39m environment at `~/repos/SparseCCSA/examples/Project.toml`\n"
     ]
    }
   ],
   "source": [
    "using Pkg\n",
    "Pkg.activate(\"examples\")"
   ]
  },
  {
   "cell_type": "code",
   "execution_count": 33,
   "id": "9c03f15d",
   "metadata": {},
   "outputs": [],
   "source": [
    "using SparseCCSA\n",
    "using ProfileView\n",
    "using LinearAlgebra\n",
    "using SparseArrays\n",
    "using CairoMakie\n",
    "using ModelingToolkit\n",
    "using Optimization\n",
    "using NLopt\n",
    "using OptimizationNLopt"
   ]
  },
  {
   "cell_type": "code",
   "execution_count": 151,
   "id": "a11a874d",
   "metadata": {},
   "outputs": [
    {
     "data": {
      "image/png": "[encoded data removed]",
      "text/plain": [
       "FigureAxisPlot()"
      ]
     },
     "execution_count": 151,
     "metadata": {},
     "output_type": "execute_result"
    }
   ],
   "source": [
    "using Random: randperm\n",
    "using Statistics: mean\n",
    "using ImplicitAdjoints\n",
    "\n",
    "n, p = 10, 20\n",
    "S = 2\n",
    "α = 0.1\n",
    "β = 0\n",
    "G = randn(n, p)\n",
    "reg = L1(p)\n",
    "u = zeros(p)\n",
    "u[randperm(p)[1:S]] .= 1\n",
    "η = randn(n)\n",
    "\n",
    "function f(G, α, β)\n",
    "    y = G * u\n",
    "    y += 0.05 * mean(abs.(y)) * η\n",
    "    uest, info = genlasso(G, y, α, β, 1000, 1e-12, reg)\n",
    "end\n",
    "\n",
    "y = G * u\n",
    "y += 0.05 * mean(abs.(y)) * η\n",
    "\n",
    "uest, info = f(G, α, β)\n",
    "plot(uest)\n",
    "\n"
   ]
  },
  {
   "cell_type": "code",
   "execution_count": 174,
   "id": "72bc81bf",
   "metadata": {},
   "outputs": [
    {
     "data": {
      "text/plain": [
       "(::OptimizationFunction{false, Optimization.AutoModelingToolkit, typeof(obj), typeof(grad), Bool, Bool, typeof(cons), Nothing, Bool, Nothing, Nothing, Nothing, Nothing, Nothing, Nothing, Nothing, Nothing, Nothing}) (generic function with 1 method)"
      ]
     },
     "execution_count": 174,
     "metadata": {},
     "output_type": "execute_result"
    }
   ],
   "source": [
    "u = rand(p)\n",
    "t = abs.(u)\n",
    "u_and_t = vcat(u, t)\n",
    "# t_i >= u_i, t_i >= -u_i, t_i >= 0\n",
    "# t_i - u_i >= 0, t_i + u_i >= 0, t_i >= 0\n",
    "\n",
    "function obj(u_and_t, _)\n",
    "    u = u_and_t[1:p]\n",
    "    t = u_and_t[p+1:2p]\n",
    "    sum((G * u - y).^2) + α * sum(t)\n",
    "end\n",
    "\n",
    "function grad(u_and_t, _)\n",
    "    u = u_and_t[1:p]\n",
    "    t = u_and_t[p+1:2p]\n",
    "    vcat(2 * G' * (G * u - y), fill(α, p))\n",
    "end\n",
    "\n",
    "function cons(u_and_t, _)\n",
    "    u = u_and_t[1:p]\n",
    "    t = u_and_t[p+1:2p]\n",
    "    vcat(t - u, t + u)\n",
    "end\n",
    "\n",
    "func = OptimizationFunction{false}(obj, Optimization.AutoModelingToolkit(); cons=cons, grad=grad, cons_h=false, hess=false, hv=false)\n"
   ]
  },
  {
   "cell_type": "code",
   "execution_count": 175,
   "id": "0d7105aa",
   "metadata": {},
   "outputs": [
    {
     "data": {
      "text/plain": [
       "(::OptimizationFunction{true, Optimization.AutoModelingToolkit, typeof(obj), typeof(grad), Bool, Bool, Optimization.var\"#241#252\"{OptimizationFunction{false, Optimization.AutoModelingToolkit, typeof(obj), typeof(grad), Bool, Bool, typeof(cons), Nothing, Bool, Nothing, Nothing, Nothing, Nothing, Nothing, Nothing, Nothing, Nothing, Nothing}, SciMLBase.NullParameters}, Optimization.var\"#243#254\"{SciMLBase.NullParameters, RuntimeGeneratedFunctions.RuntimeGeneratedFunction{(:ˍ₋out, :ˍ₋arg1, :ˍ₋arg2), Symbolics.var\"#_RGF_ModTag\", Symbolics.var\"#_RGF_ModTag\", (0xcaaaef26, 0xc28cb81b, 0x6f700e91, 0x0c5ed955, 0xa28f032d)}}, Bool, Nothing, Nothing, Nothing, Nothing, Nothing, Nothing, Nothing, Expr, Vector{Expr}}) (generic function with 1 method)"
      ]
     },
     "execution_count": 175,
     "metadata": {},
     "output_type": "execute_result"
    }
   ],
   "source": [
    "func_inst = Optimization.instantiate_function(func, u_and_t, Optimization.AutoModelingToolkit(), SciMLBase.NullParameters())"
   ]
  },
  {
   "cell_type": "code",
   "execution_count": 182,
   "id": "3caaf5cb",
   "metadata": {},
   "outputs": [
    {
     "data": {
      "text/plain": [
       "40-element Vector{Float64}:\n",
       "  34.78597304589764\n",
       "  13.219259542664673\n",
       "  34.18034137330472\n",
       "   4.670030561644436\n",
       "   1.2501879406798853\n",
       "  -0.24556489008025273\n",
       "   0.5408922712458091\n",
       "   2.546227267857934\n",
       "  10.068405578957188\n",
       "  -4.23219629128411\n",
       "   3.633846311040428\n",
       " -20.257604131061665\n",
       " -13.750290630376602\n",
       "   ⋮\n",
       "   0.1\n",
       "   0.1\n",
       "   0.1\n",
       "   0.1\n",
       "   0.1\n",
       "   0.1\n",
       "   0.1\n",
       "   0.1\n",
       "   0.1\n",
       "   0.1\n",
       "   0.1\n",
       "   0.1"
      ]
     },
     "execution_count": 182,
     "metadata": {},
     "output_type": "execute_result"
    }
   ],
   "source": [
    "func_inst.grad(u_and_t, 1)"
   ]
  },
  {
   "cell_type": "code",
   "execution_count": 178,
   "id": "cc00c59f",
   "metadata": {},
   "outputs": [
    {
     "data": {
      "text/plain": [
       "20-element Vector{Float64}:\n",
       " 0.9011813471684489\n",
       " 0.9986831163659013\n",
       " 0.6209204323960202\n",
       " 0.8946885831105855\n",
       " 0.4551654792875859\n",
       " 0.5154393124693311\n",
       " 0.5191566807404102\n",
       " 0.9441385913560594\n",
       " 0.15420041389380557\n",
       " 0.8999118411481284\n",
       " 0.7315666121127091\n",
       " 0.7914126925854523\n",
       " 0.529844655168455\n",
       " 0.7512682041110932\n",
       " 0.4465553918755474\n",
       " 0.12392529676325048\n",
       " 0.3474179033569913\n",
       " 0.06237615047292988\n",
       " 0.6374236866676366\n",
       " 0.8658835738680402"
      ]
     },
     "execution_count": 178,
     "metadata": {},
     "output_type": "execute_result"
    }
   ],
   "source": [
    "u"
   ]
  },
  {
   "cell_type": "code",
   "execution_count": 179,
   "id": "e6cf890e",
   "metadata": {},
   "outputs": [
    {
     "data": {
      "text/plain": [
       "u: 40-element Vector{Float64}:\n",
       " 0.9011813471684489\n",
       " 0.07333789853998463\n",
       " 0.6209204323960202\n",
       " 0.8946885831105855\n",
       " 0.4551654792875859\n",
       " 0.5154393124693311\n",
       " 0.5191566807404102\n",
       " 0.9441385913560594\n",
       " 0.15420041389380557\n",
       " 0.8999118411481284\n",
       " 0.7315666121127091\n",
       " 0.7914126925854523\n",
       " 0.529844655168455\n",
       " ⋮\n",
       " 0.15420041389380557\n",
       " 0.8999118411481284\n",
       " 0.7315666121127091\n",
       " 0.7914126925854523\n",
       " 0.529844655168455\n",
       " 0.7512682041110932\n",
       " 0.4465553918755474\n",
       " 0.12392529676325048\n",
       " 0.3474179033569913\n",
       " 0.06237615047292988\n",
       " 0.6374236866676366\n",
       " 0.8658835738680402"
      ]
     },
     "execution_count": 179,
     "metadata": {},
     "output_type": "execute_result"
    }
   ],
   "source": [
    "lb = vcat(fill(-Inf, p), zeros(p))\n",
    "ub = fill(Inf, 2p)\n",
    "lcons = fill(0, 2p)\n",
    "ucons = fill(Inf, 2p)\n",
    "\n",
    "prob = OptimizationProblem(func, u_and_t; lb=lb, ub=ub, lcons=lcons, ucons=ucons)\n",
    "solve(prob, NLopt.LD_CCSAQ(); maxiters=100)"
   ]
  },
  {
   "cell_type": "code",
   "execution_count": 28,
   "id": "029fc8a9",
   "metadata": {},
   "outputs": [
    {
     "data": {
      "text/plain": [
       "NLopt.LD_CCSAQ: CCSA (Conservative Convex Separable Approximations) with simple quadratic approximations (local, derivative)"
      ]
     },
     "execution_count": 28,
     "metadata": {},
     "output_type": "execute_result"
    }
   ],
   "source": [
    "NLopt.LD_CCSAQ"
   ]
  },
  {
   "cell_type": "code",
   "execution_count": 4,
   "id": "6ddcff2f",
   "metadata": {
    "collapsed": true
   },
   "outputs": [
    {
     "data": {
      "text/plain": [
       "100-element Vector{Float64}:\n",
       "  0.0\n",
       "  0.0\n",
       "  0.0\n",
       "  0.0\n",
       "  0.0\n",
       "  0.0\n",
       "  0.0\n",
       "  0.0\n",
       "  0.0\n",
       "  0.0\n",
       "  0.0\n",
       "  0.0\n",
       "  0.0\n",
       "  ⋮\n",
       "  0.0\n",
       "  0.0\n",
       "  0.0\n",
       "  0.0\n",
       "  0.0\n",
       "  0.0\n",
       "  6.248704339176672\n",
       " 12.497408678353343\n",
       "  8.02964468945121\n",
       "  3.561880700549076\n",
       "  1.780940350274538\n",
       "  0.0"
      ]
     },
     "execution_count": 4,
     "metadata": {},
     "output_type": "execute_result"
    }
   ],
   "source": [
    "α= 0.1\n",
    "n= 100\n",
    "A=sparse(Matrix(SymTridiagonal(2*ones(n),ones(n))))\n",
    "x_true= ones(n)*10; x_true.= sprand(n,0.1)*10\n",
    "y=A*x_true\n"
   ]
  },
  {
   "cell_type": "code",
   "execution_count": 18,
   "id": "ee115514",
   "metadata": {},
   "outputs": [
    {
     "data": {
      "text/plain": [
       "201×200 SparseMatrixCSC{Float64, Int64} with 600 stored entries:\n",
       "⠻⣍⠉⠉⠉⠉⠉⠉⠉⠉⠉⠉⠉⠉⠉⠉⠉⠉⠉⠉⠫⡍⠉⠉⠉⠉⠉⠉⠉⠉⠉⠉⠉⠉⠉⠉⠉⠉⠉⠉\n",
       "⠀⠈⠳⣄⠀⠀⠀⠀⠀⠀⠀⠀⠀⠀⠀⠀⠀⠀⠀⠀⠀⠈⠣⡄⠀⠀⠀⠀⠀⠀⠀⠀⠀⠀⠀⠀⠀⠀⠀⠀\n",
       "⠀⠀⠀⠈⠓⣄⠀⠀⠀⠀⠀⠀⠀⠀⠀⠀⠀⠀⠀⠀⠀⠀⠀⠈⠳⣄⠀⠀⠀⠀⠀⠀⠀⠀⠀⠀⠀⠀⠀⠀\n",
       "⠀⠀⠀⠀⠀⠀⠳⣄⠀⠀⠀⠀⠀⠀⠀⠀⠀⠀⠀⠀⠀⠀⠀⠀⠀⠈⠳⣄⠀⠀⠀⠀⠀⠀⠀⠀⠀⠀⠀⠀\n",
       "⠀⠀⠀⠀⠀⠀⠀⠈⠳⣄⠀⠀⠀⠀⠀⠀⠀⠀⠀⠀⠀⠀⠀⠀⠀⠀⠀⠈⠳⣄⠀⠀⠀⠀⠀⠀⠀⠀⠀⠀\n",
       "⠀⠀⠀⠀⠀⠀⠀⠀⠀⠈⠳⣄⠀⠀⠀⠀⠀⠀⠀⠀⠀⠀⠀⠀⠀⠀⠀⠀⠀⠈⠳⣄⠀⠀⠀⠀⠀⠀⠀⠀\n",
       "⠀⠀⠀⠀⠀⠀⠀⠀⠀⠀⠀⠈⠱⢄⠀⠀⠀⠀⠀⠀⠀⠀⠀⠀⠀⠀⠀⠀⠀⠀⠀⠈⠳⣄⠀⠀⠀⠀⠀⠀\n",
       "⠀⠀⠀⠀⠀⠀⠀⠀⠀⠀⠀⠀⠀⠈⠱⢄⠀⠀⠀⠀⠀⠀⠀⠀⠀⠀⠀⠀⠀⠀⠀⠀⠀⠈⠳⣄⠀⠀⠀⠀\n",
       "⠀⠀⠀⠀⠀⠀⠀⠀⠀⠀⠀⠀⠀⠀⠀⠈⠱⢄⠀⠀⠀⠀⠀⠀⠀⠀⠀⠀⠀⠀⠀⠀⠀⠀⠀⠈⠳⣄⠀⠀\n",
       "⠀⠀⠀⠀⠀⠀⠀⠀⠀⠀⠀⠀⠀⠀⠀⠀⠀⠈⠱⢄⠀⠀⠀⠀⠀⠀⠀⠀⠀⠀⠀⠀⠀⠀⠀⠀⠀⠈⠳⣄\n",
       "⠑⢆⡀⠀⠀⠀⠀⠀⠀⠀⠀⠀⠀⠀⠀⠀⠀⠀⠀⠀⠓⣄⠀⠀⠀⠀⠀⠀⠀⠀⠀⠀⠀⠀⠀⠀⠀⠀⠀⠀\n",
       "⠀⠀⠑⢆⡀⠀⠀⠀⠀⠀⠀⠀⠀⠀⠀⠀⠀⠀⠀⠀⠀⠀⠓⣄⠀⠀⠀⠀⠀⠀⠀⠀⠀⠀⠀⠀⠀⠀⠀⠀\n",
       "⠀⠀⠀⠀⠑⢆⡀⠀⠀⠀⠀⠀⠀⠀⠀⠀⠀⠀⠀⠀⠀⠀⠀⠀⠓⣄⠀⠀⠀⠀⠀⠀⠀⠀⠀⠀⠀⠀⠀⠀\n",
       "⠀⠀⠀⠀⠀⠀⠑⢄⠀⠀⠀⠀⠀⠀⠀⠀⠀⠀⠀⠀⠀⠀⠀⠀⠀⠀⠓⣄⠀⠀⠀⠀⠀⠀⠀⠀⠀⠀⠀⠀\n",
       "⠀⠀⠀⠀⠀⠀⠀⠀⠙⢤⠀⠀⠀⠀⠀⠀⠀⠀⠀⠀⠀⠀⠀⠀⠀⠀⠀⠀⠑⢄⠀⠀⠀⠀⠀⠀⠀⠀⠀⠀\n",
       "⠀⠀⠀⠀⠀⠀⠀⠀⠀⠀⠙⢤⠀⠀⠀⠀⠀⠀⠀⠀⠀⠀⠀⠀⠀⠀⠀⠀⠀⠀⠑⢄⠀⠀⠀⠀⠀⠀⠀⠀\n",
       "⠀⠀⠀⠀⠀⠀⠀⠀⠀⠀⠀⠀⠙⢤⠀⠀⠀⠀⠀⠀⠀⠀⠀⠀⠀⠀⠀⠀⠀⠀⠀⠀⠑⢄⠀⠀⠀⠀⠀⠀\n",
       "⠀⠀⠀⠀⠀⠀⠀⠀⠀⠀⠀⠀⠀⠀⠙⢤⡀⠀⠀⠀⠀⠀⠀⠀⠀⠀⠀⠀⠀⠀⠀⠀⠀⠈⠱⢄⠀⠀⠀⠀\n",
       "⠀⠀⠀⠀⠀⠀⠀⠀⠀⠀⠀⠀⠀⠀⠀⠀⠙⢦⡀⠀⠀⠀⠀⠀⠀⠀⠀⠀⠀⠀⠀⠀⠀⠀⠀⠀⠑⢄⠀⠀\n",
       "⠀⠀⠀⠀⠀⠀⠀⠀⠀⠀⠀⠀⠀⠀⠀⠀⠀⠀⠙⢦⠀⠀⠀⠀⠀⠀⠀⠀⠀⠀⠀⠀⠀⠀⠀⠀⠀⠀⠑⢄"
      ]
     },
     "execution_count": 18,
     "metadata": {},
     "output_type": "execute_result"
    }
   ],
   "source": [
    "I=Vector{Int64}(undef,6n)\n",
    "J=Vector{Int64}(undef,6n)\n",
    "V=Vector{Float64}(undef,6n)\n",
    "for i in 1:2n\n",
    "    I[i]=1;J[i]=i; V[i]=α;\n",
    "end\n",
    "for i in 2n+1:3n\n",
    "    I[i]=i-(2n-1); J[i]=i-(2n); V[i]=-1;\n",
    "end\n",
    "for i in 3n+1:4n\n",
    "    I[i]=i-(3n-1); J[i]=i-(2n); V[i]=-1;\n",
    "end\n",
    "for i in 4n+1:5n\n",
    "    I[i]=i-(3n-1); J[i]=i-(4n); V[i]=1;\n",
    "end\n",
    "for i in 5n+1:6n\n",
    "    I[i]=i-(4n-1); J[i]=i-(4n); V[i]=-1;\n",
    "end\n",
    "∇f=sparse(I,J,V)"
   ]
  },
  {
   "cell_type": "code",
   "execution_count": 19,
   "id": "9459765b",
   "metadata": {},
   "outputs": [
    {
     "data": {
      "text/plain": [
       "f_and_∇f (generic function with 1 method)"
      ]
     },
     "execution_count": 19,
     "metadata": {},
     "output_type": "execute_result"
    }
   ],
   "source": [
    "function creat_∇f(x)\n",
    "    ∇f.nzval[1:3:3n-2].=A'*(A*(@view x[1:n])-y)\n",
    "    return ∇f\n",
    "end\n",
    "f=Vector{Float64}(undef,2n+1)\n",
    "function f_and_∇f(x)\n",
    "    f = zeros(2n+1)\n",
    "    f[1]=sum((A*(@view x[1:n])-y).^2)+α*sum(@view x[n+1:2n])\n",
    "    for i in 1:n\n",
    "        f[i+1]=-x[i]-x[i+n]\n",
    "        f[i+n+1]=x[i]-x[i+n]\n",
    "    end\n",
    "    return f,creat_∇f(x)\n",
    "end\n"
   ]
  },
  {
   "cell_type": "code",
   "execution_count": 30,
   "id": "ca78b732",
   "metadata": {},
   "outputs": [
    {
     "data": {
      "text/plain": [
       "cb (generic function with 1 method)"
      ]
     },
     "execution_count": 30,
     "metadata": {},
     "output_type": "execute_result"
    }
   ],
   "source": [
    "max_iters=3\n",
    "opt = CCSAState(2n, 2n, f_and_∇f,zeros(2n),max_iters=max_iters,xtol_rel=1e-4)\n",
    "value=Array{Float64}(undef,1000)\n",
    "recode_xi_stable=Array{Float64}(undef,2n,100)\n",
    "function cb()\n",
    "    value[opt.iters]=opt.fx[1]\n",
    "    println(opt.iters)\n",
    "    recode_xi_stable[:,opt.iters].=opt.x\n",
    "end"
   ]
  },
  {
   "cell_type": "code",
   "execution_count": null,
   "id": "8bd0ae1e",
   "metadata": {},
   "outputs": [
    {
     "name": "stdout",
     "output_type": "stream",
     "text": [
      "1\n"
     ]
    }
   ],
   "source": [
    "optimize(opt; callback=cb)"
   ]
  },
  {
   "cell_type": "code",
   "execution_count": null,
   "id": "4293dbb9",
   "metadata": {},
   "outputs": [],
   "source": [
    "@time optimize(opt; callback=cb)\n"
   ]
  },
  {
   "cell_type": "code",
   "execution_count": 36,
   "id": "c3153d91",
   "metadata": {},
   "outputs": [
    {
     "name": "stderr",
     "output_type": "stream",
     "text": [
      "┌ Info: Precompiling Optimization [7f7a1694-90dd-40f0-9382-eb1efda571ba]\n",
      "└ @ Base loading.jl:1342\n"
     ]
    }
   ],
   "source": [
    "using Optimization"
   ]
  },
  {
   "cell_type": "code",
   "execution_count": 37,
   "id": "02d0a5d6",
   "metadata": {},
   "outputs": [
    {
     "data": {
      "text/plain": [
       "OptimizationProblem"
      ]
     },
     "execution_count": 37,
     "metadata": {},
     "output_type": "execute_result"
    }
   ],
   "source": [
    "OptimizationProblem"
   ]
  },
  {
   "cell_type": "code",
   "execution_count": 39,
   "id": "bb130579",
   "metadata": {},
   "outputs": [
    {
     "data": {
      "text/plain": [
       "OptimizationFunction"
      ]
     },
     "execution_count": 39,
     "metadata": {},
     "output_type": "execute_result"
    }
   ],
   "source": [
    "OptimizationFunction"
   ]
  },
  {
   "cell_type": "code",
   "execution_count": null,
   "id": "29806b0d",
   "metadata": {},
   "outputs": [],
   "source": []
  }
 ],
 "metadata": {
  "kernelspec": {
   "display_name": "Julia 1.7.3",
   "language": "julia",
   "name": "julia-1.7"
  },
  "language_info": {
   "file_extension": ".jl",
   "mimetype": "application/julia",
   "name": "julia",
   "version": "1.7.3"
  }
 },
 "nbformat": 4,
 "nbformat_minor": 5
}
